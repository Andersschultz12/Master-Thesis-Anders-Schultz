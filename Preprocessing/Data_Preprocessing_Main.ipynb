{
 "cells": [
  {
   "cell_type": "code",
   "execution_count": 1,
   "metadata": {},
   "outputs": [],
   "source": [
    "import pandas as pd\n",
    "import numpy as np\n",
    "import os\n",
    "import time\n",
    "import shutil\n",
    "import Data_Preprocessing_Raw as DPR\n",
    "import Data_Preprocessing_Metrics as DPM\n",
    "import Data_Preprocessing_Spectrogram as DPS"
   ]
  },
  {
   "cell_type": "code",
   "execution_count": 2,
   "metadata": {},
   "outputs": [],
   "source": [
    "def Perform_Filtering_Plus_NaN_Removal(set_file_path, obs_rate, low_freq, high_freq, num_electrodes):\n",
    "    filtered_df_sample, channel_names = DPR.load_filtered_eeg_data_using_mne(set_file_path, obs_rate, low_freq, high_freq, num_electrodes)\n",
    "    filtered_df_sample, channel_names = DPR.remove_high_nan_rows_cols(filtered_df_sample, channel_names, threshold=0.4)\n",
    "    return filtered_df_sample, channel_names \n",
    "\n",
    "def Create_Metric_And_Detail_Data_For_Application(num_electrodes, thresholds, sequence_lengths, num_int, window, num_std, obs_rate, subject_number, filtered_df_sample, channel_names):\n",
    "\n",
    "    time1 = time.perf_counter()\n",
    "\n",
    "    int_min, int_max = 0, filtered_df_sample.shape[1] \n",
    "    df_sample = DPR.transform_dataset_for_visualization(filtered_df_sample, 'interval', channel_names, interval_start=int_min, interval_end=int_max, obs_rate=obs_rate)\n",
    "\n",
    "    time2 = time.perf_counter()\n",
    "    print(f'Execution time for raw preprocess: {time2 - time1:.2f} seconds. The shape of raw filtered data: {df_sample.shape}')\n",
    "    \n",
    "    df_sample = DPM.create_sign_difference_column(df_sample)\n",
    "    \n",
    "    time3 = time.perf_counter()\n",
    "    print(f'Execution time for sign_diff function: {time3 - time2:.2f} seconds')\n",
    "    \n",
    "    df_sample = DPM.mark_threshold_sequences(df_sample, thresholds, sequence_lengths)\n",
    "    \n",
    "    time4 = time.perf_counter()\n",
    "    print(f'Execution time for threshold function: {time4 - time3:.2f} seconds')\n",
    "            \n",
    "    time5 = time.perf_counter()\n",
    "    print(f'Execution time for sentiment function: {time5 - time4:.2f} seconds')\n",
    "    \n",
    "    df_sample = DPM.calculate_envelope_diff(df_sample, window, num_std)\n",
    "    \n",
    "    time6 = time.perf_counter()\n",
    "    print(f'Execution time for envelope fuinction: {time6 - time5:.2f} seconds')\n",
    "\n",
    "    columns = ['y', 'sign_change', 'abs_diff', 'envelope'] + [col for col in df_sample.columns if \"SEQ\" in col]\n",
    "    \n",
    "    print('filtered data for subject: {subject_number} is done')\n",
    "    aggregated_df = DPM.aggregate_for_specific_columns(df_sample, num_int, columns, num_electrodes, obs_rate)\n",
    "    \n",
    "    time7 = time.perf_counter()\n",
    "    print(f'Execution time for aggregation df creation: {time7 - time6:.2f} seconds.')\n",
    "\n",
    "    aggregated_df = aggregated_df[['Electrode'] + columns + ['x_start', 'time_hms', 'MSE', 'ME', 'Slope', 'mean', 'var', 'std', 'median', 'range']]\n",
    "    \n",
    "    print(f'The shape of raw aggregated data: {aggregated_df.shape}')\n",
    "\n",
    "    df_sample['x_interval'] = pd.cut(df_sample['x'], bins=3000)\n",
    "\n",
    "    DPM.create_parquet_partitioned_data(df_sample, subject_number)\n",
    "    del df_sample\n",
    "\n",
    "    time8 = time.perf_counter()\n",
    "    print(f'Execution time for filtered_df saving: {time8 - time7:.2f} seconds.')\n",
    "\n",
    "    DPM.create_aggregated_data_parquet(aggregated_df, subject_number)\n",
    "    del aggregated_df\n",
    "    \n",
    "    time9 = time.perf_counter()\n",
    "    print(f'Execution time for agg_df saving: {time9 - time8:.2f} seconds.')\n",
    "\n",
    "\n",
    "def Create_Spectrogram_Data_For_Application(subject, obs_rate, data, channel_names):\n",
    "\n",
    "    time2 = time.perf_counter()\n",
    "    \n",
    "    data_spectro = DPS.create_spectrogram_dataframe_all_electrodes(data, obs_rate, channel_names) #data_spectro\n",
    "\n",
    "    time3 = time.perf_counter()\n",
    "    print(f'Execution time for agg_df saving: {time3 - time2:.2f} seconds.')\n",
    "    \n",
    "    directory_path = f\"parquet_partitioned_spectrogram_{subject}\"\n",
    "\n",
    "    if os.path.exists(directory_path):\n",
    "        shutil.rmtree(directory_path)\n",
    "\n",
    "    data_spectro.to_parquet(directory_path, partition_cols=['Electrode'], compression='gzip')\n",
    "\n",
    "    #data_spectro.to_parquet(f\"parquet_frequency_{subject}_test\", compression='gzip')\n",
    "\n",
    "    time4 = time.perf_counter()\n",
    "    print(f'Execution time for agg_df saving: {time4 - time3:.2f} seconds.')\n",
    "    \n",
    "    del data_spectro"
   ]
  },
  {
   "cell_type": "code",
   "execution_count": 3,
   "metadata": {},
   "outputs": [
    {
     "name": "stdout",
     "output_type": "stream",
     "text": [
      "Reading C:\\Users\\ander\\OneDrive\\Dokumenter\\10thSemesterThesis\\sub-001_ses-001_task-sleep_acq-PSG_eeg.fdt\n",
      "Reading 0 ... 14255559  =      0.000 ... 28511.118 secs...\n",
      "NOTE: pick_channels() is a legacy function. New code should use inst.pick(...).\n",
      "Filtering raw data in 1 contiguous segment\n",
      "Setting up band-pass filter from 0.1 - 1e+02 Hz\n",
      "\n",
      "FIR filter parameters\n",
      "---------------------\n",
      "Designing a one-pass, zero-phase, non-causal bandpass filter:\n",
      "- Windowed time-domain design (firwin) method\n",
      "- Hamming window with 0.0194 passband ripple and 53 dB stopband attenuation\n",
      "- Lower passband edge: 0.10\n",
      "- Lower transition bandwidth: 0.10 Hz (-6 dB cutoff frequency: 0.05 Hz)\n",
      "- Upper passband edge: 100.00 Hz\n",
      "- Upper transition bandwidth: 25.00 Hz (-6 dB cutoff frequency: 112.50 Hz)\n",
      "- Filter length: 16501 samples (33.002 s)\n",
      "\n"
     ]
    },
    {
     "name": "stderr",
     "output_type": "stream",
     "text": [
      "[Parallel(n_jobs=1)]: Done  17 tasks      | elapsed:    6.7s\n"
     ]
    },
    {
     "name": "stdout",
     "output_type": "stream",
     "text": [
      "Original NaN count: 7127780\n",
      "Original shape data: (24, 7127780), original shape channel_names: 24\n",
      "Columns to delete: 0, Rows to delete: 1\n",
      "Indices of rows to be deleted: [7]\n",
      "New data shape post cleaning: (23, 7127780), New channel_name shape post cleaning: 23\n",
      "Execution time for raw preprocess: 59.68 seconds. The shape of raw filtered data: (163938940, 4)\n",
      "Execution time for sign_diff function: 2.44 seconds\n",
      "Execution time for threshold function: 32.84 seconds\n",
      "Execution time for sentiment function: 0.02 seconds\n",
      "Execution time for envelope fuinction: 8.33 seconds\n",
      "filtered data for subject: {subject_number} is done\n"
     ]
    },
    {
     "name": "stderr",
     "output_type": "stream",
     "text": [
      "c:\\Users\\ander\\OneDrive\\Dokumenter\\10thSemesterThesis\\Data_Preprocessing_Metrics.py:116: FutureWarning: The default of observed=False is deprecated and will be changed to True in a future version of pandas. Pass observed=False to retain current behavior or observed=True to adopt the future default and silence this warning.\n",
      "  agg_df = df.groupby(['Electrode', 'x_interval'])[columns].sum().reset_index()\n",
      "c:\\Users\\ander\\OneDrive\\Dokumenter\\10thSemesterThesis\\Data_Preprocessing_Metrics.py:118: FutureWarning: The default of observed=False is deprecated and will be changed to True in a future version of pandas. Pass observed=False to retain current behavior or observed=True to adopt the future default and silence this warning.\n",
      "  agg_df[['MSE', 'ME', 'Slope']] = df.groupby(['Electrode', 'x_interval']).apply(calculate_metrics).reset_index()[['MSE', 'ME', 'Slope']]\n",
      "c:\\Users\\ander\\OneDrive\\Dokumenter\\10thSemesterThesis\\Data_Preprocessing_Metrics.py:119: FutureWarning: The default of observed=False is deprecated and will be changed to True in a future version of pandas. Pass observed=False to retain current behavior or observed=True to adopt the future default and silence this warning.\n",
      "  stats_df = df.groupby(['Electrode', 'x_interval'])['y'].agg(['var', 'mean', 'std', 'median', 'min', 'max']).reset_index()\n",
      "c:\\Users\\ander\\OneDrive\\Dokumenter\\10thSemesterThesis\\Data_Preprocessing_Metrics.py:128: FutureWarning: 'S' is deprecated and will be removed in a future version, please use 's' instead.\n",
      "  agg_df['time_hms'] = pd.to_datetime(agg_df['x_start'] / obs_rate, unit='s').dt.floor('S')\n"
     ]
    },
    {
     "name": "stdout",
     "output_type": "stream",
     "text": [
      "Execution time for aggregation df creation: 414.51 seconds.\n",
      "The shape of raw aggregated data: (69000, 19)\n"
     ]
    },
    {
     "name": "stderr",
     "output_type": "stream",
     "text": [
      "c:\\Users\\ander\\OneDrive\\Dokumenter\\10thSemesterThesis\\Data_Preprocessing_Metrics.py:147: SettingWithCopyWarning: \n",
      "A value is trying to be set on a copy of a slice from a DataFrame.\n",
      "Try using .loc[row_indexer,col_indexer] = value instead\n",
      "\n",
      "See the caveats in the documentation: https://pandas.pydata.org/pandas-docs/stable/user_guide/indexing.html#returning-a-view-versus-a-copy\n",
      "  DF['Electrode'] = DF['Electrode'].astype('category')\n",
      "c:\\Users\\ander\\OneDrive\\Dokumenter\\10thSemesterThesis\\Data_Preprocessing_Metrics.py:148: SettingWithCopyWarning: \n",
      "A value is trying to be set on a copy of a slice from a DataFrame.\n",
      "Try using .loc[row_indexer,col_indexer] = value instead\n",
      "\n",
      "See the caveats in the documentation: https://pandas.pydata.org/pandas-docs/stable/user_guide/indexing.html#returning-a-view-versus-a-copy\n",
      "  DF['y'] = DF['y'].astype('float32')\n",
      "c:\\Users\\ander\\OneDrive\\Dokumenter\\10thSemesterThesis\\Data_Preprocessing_Metrics.py:149: SettingWithCopyWarning: \n",
      "A value is trying to be set on a copy of a slice from a DataFrame.\n",
      "Try using .loc[row_indexer,col_indexer] = value instead\n",
      "\n",
      "See the caveats in the documentation: https://pandas.pydata.org/pandas-docs/stable/user_guide/indexing.html#returning-a-view-versus-a-copy\n",
      "  DF['x'] = DF['x'].astype('int32')\n"
     ]
    }
   ],
   "source": [
    "directory_path = 'C:\\\\Users\\\\ander\\\\OneDrive\\\\Dokumenter\\\\10thSemesterThesis'\n",
    "set_file_name = 'sub-001_ses-001_task-sleep_acq-PSG_eeg.set'\n",
    "set_file_path = os.path.join(directory_path, set_file_name)\n",
    "low_freq, high_freq, obs_rate = 0.1, 100, 250\n",
    "num_electrodes = 24\n",
    "subject = '003'\n",
    "thresholds = [0.00001, 0.000005]\n",
    "sequence_lengths = [1, 5]\n",
    "num_int = 3000\n",
    "window, num_std = 10, 1.5\n",
    "\n",
    "filtered_df_sample, channel_names = Perform_Filtering_Plus_NaN_Removal(set_file_path, obs_rate, low_freq, high_freq, num_electrodes)\n",
    "\n",
    "Create_Metric_And_Detail_Data_For_Application(num_electrodes, thresholds, sequence_lengths, num_int, window, num_std, obs_rate, subject, filtered_df_sample, channel_names)\n",
    "\n",
    "Create_Spectrogram_Data_For_Application(subject, obs_rate, filtered_df_sample, channel_names)"
   ]
  },
  {
   "cell_type": "code",
   "execution_count": null,
   "metadata": {},
   "outputs": [],
   "source": [
    "'''\n",
    "Input for preprocessing\n",
    "\n",
    "- Insert own file path for the .set or .fdt file containing EEG data.\n",
    "- Insert own name for  the given subject.\n",
    "- Adjust the other parameters based on preference.\n",
    "\n",
    "window, num_std:                   Envelope window and std multiplier\n",
    "num_int:                           Number of aggregated intervals.\n",
    "low_freq, high_freq, obs_rate:     Ban-pass filter parameters and sample rate (measurements per second) \n",
    "sequence_lengths and thresholds:   For the sequences exceeding the thresholds metric.\n",
    "num_electrodes:                    How many electrodes from the subject should be preprocessed.\n",
    "'''\n",
    "\n",
    "\n",
    "set_file_path = ''\n",
    "low_freq, high_freq, obs_rate = 0.1, 100, 250\n",
    "num_electrodes = 24\n",
    "subject = ''\n",
    "thresholds = [0.00001, 0.000005]\n",
    "sequence_lengths = [1, 5]\n",
    "num_int = 3000\n",
    "window, num_std = 10, 1.5\n",
    "\n",
    "filtered_df_sample, channel_names = Perform_Filtering_Plus_NaN_Removal(set_file_path, obs_rate, low_freq, high_freq, num_electrodes)\n",
    "Create_Metric_And_Detail_Data_For_Application(num_electrodes, thresholds, sequence_lengths, num_int, window, num_std, obs_rate, subject, filtered_df_sample, channel_names)\n",
    "Create_Spectrogram_Data_For_Application(subject, obs_rate, filtered_df_sample, channel_names)"
   ]
  },
  {
   "cell_type": "code",
   "execution_count": null,
   "metadata": {},
   "outputs": [],
   "source": [
    "#s = ['001', '002']\n",
    "#set_file_paths = [os.path.join(directory_path, f'sub-{sn}', f'ses-001', f'eeg', f'sub-{sn}_ses-001_task-sleep_eeg.set') for sn in s] + [set_file_path]\n",
    "#set_file_paths = [set_file_path] "
   ]
  }
 ],
 "metadata": {
  "kernelspec": {
   "display_name": "env_mne",
   "language": "python",
   "name": "python3"
  },
  "language_info": {
   "codemirror_mode": {
    "name": "ipython",
    "version": 3
   },
   "file_extension": ".py",
   "mimetype": "text/x-python",
   "name": "python",
   "nbconvert_exporter": "python",
   "pygments_lexer": "ipython3",
   "version": "3.10.13"
  }
 },
 "nbformat": 4,
 "nbformat_minor": 2
}
